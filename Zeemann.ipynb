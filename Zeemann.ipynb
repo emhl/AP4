{
 "cells": [
  {
   "cell_type": "code",
   "execution_count": 50,
   "id": "a0f4ee9d-4dbe-4604-bb5e-7be274932d30",
   "metadata": {},
   "outputs": [],
   "source": [
    "import numpy as np\n",
    "import matplotlib.pyplot as plt\n",
    "import pandas as pd\n",
    "from shapely.geometry import LineString as ls\n",
    "from scipy.optimize import curve_fit\n",
    "from scipy.signal import find_peaks,peak_widths\n",
    "import scipy.constants as con\n",
    "from scipy.integrate import quad\n",
    "from scipy import stats\n",
    "e = 2.718281828\n",
    "import csv"
   ]
  },
  {
   "cell_type": "code",
   "execution_count": 107,
   "id": "93969ab3-2ed8-4515-b248-70c2e7069a3f",
   "metadata": {},
   "outputs": [],
   "source": [
    "# signifikanztest\n",
    "\n",
    "def ttest(werte,unsicherheiten):\n",
    "    for i,(v1, uv1) in enumerate(zip(werte,unsicherheiten)):\n",
    "        # print(i,end = '\\t')\n",
    "        for j,(v2, uv2) in enumerate(zip(werte, unsicherheiten)):\n",
    "            d = abs(v1-v2)\n",
    "            ud = np.sqrt(uv1**2 + uv2**2)\n",
    "            t = d/ud\n",
    "            print(round(t,3), end = '\\t')\n",
    "        print()\n",
    "\n",
    "def prob(x):\n",
    "    return np.exp(-x**2/2)/np.sqrt(2*con.pi)\n",
    "\n",
    "\n",
    "def ttestPaussen(werte,unsicherheiten):\n",
    "    for i,(v1, uv1) in enumerate(zip(werte,unsicherheiten)):\n",
    "        for j,(v2, uv2) in enumerate(zip(werte, unsicherheiten)):\n",
    "            d = abs(v1-v2)\n",
    "            ud = np.sqrt(uv1**2 + uv2**2)\n",
    "            t = d/ud\n",
    "            P = quad(prob,-t,t)\n",
    "            # print(round((P[0])*100,3), end = '\\t')\n",
    "            print(f\"\\SI{{{round((P[0])*100,3)}}}\" + r\"{\\percent}\", end = '\\t')\n",
    "            # print(P, end = '\\t')\n",
    "        print()\n",
    "def ttestPinnen(werte,unsicherheiten):\n",
    "    for i,(v1, uv1) in enumerate(zip(werte,unsicherheiten)):\n",
    "        for j,(v2, uv2) in enumerate(zip(werte, unsicherheiten)):\n",
    "            d = abs(v1-v2)\n",
    "            ud = np.sqrt(uv1**2 + uv2**2)\n",
    "            t = d/ud\n",
    "            P = quad(prob,-t,t)\n",
    "            # print(round((1-P[0])*100,3), end = '\\t')\n",
    "            print(f\"\\SI{{{round((1-P[0])*100,3)}}}\" + r\"{\\percent}\", end = '\\t')\n",
    "            # print(P, end = '\\t')\n",
    "        print()"
   ]
  },
  {
   "cell_type": "code",
   "execution_count": 5,
   "id": "f5696213-de84-47a7-a7a3-8250d3b85d71",
   "metadata": {},
   "outputs": [],
   "source": [
    "bMessreihe1 = [575,570,550,535,545]\n",
    "bMessreihe2 = [420,280,480,460,462]"
   ]
  },
  {
   "cell_type": "code",
   "execution_count": 28,
   "id": "c518a10a-e672-45eb-906d-d6eed3d77757",
   "metadata": {},
   "outputs": [
    {
     "name": "stdout",
     "output_type": "stream",
     "text": [
      "\\SI{555.0 \\pm 6.78}{\\milli\\tesla}\n",
      "\\SI{420.4 \\pm 32.6}{\\milli\\tesla}\n"
     ]
    }
   ],
   "source": [
    "b1 = np.average(bMessreihe1)\n",
    "ub1 = np.sqrt(np.var(bMessreihe1)/len(bMessreihe1))\n",
    "print(f\"\\SI{{{ b1 } \\pm {round(ub1,2)}}}\" + r\"{\\milli\\tesla}\")\n",
    "\n",
    "b2 = np.average(bMessreihe2)\n",
    "ub2 = np.sqrt(np.var(bMessreihe2)/len(bMessreihe2))\n",
    "print(f\"\\SI{{{ b2 } \\pm {round(ub2,2)}}}\" + r\"{\\milli\\tesla}\")"
   ]
  },
  {
   "cell_type": "code",
   "execution_count": 43,
   "id": "b9cc34da-23e8-42dd-b504-39454b645cfd",
   "metadata": {},
   "outputs": [
    {
     "name": "stdout",
     "output_type": "stream",
     "text": [
      "\\SI{0.19416 \\pm 0.00237}{\\tera\\coulomb \\per \\kilo\\gram}\n",
      "\\SI{0.19224 \\pm 0.01491}{\\tera\\coulomb \\per \\kilo\\gram}\n"
     ]
    }
   ],
   "source": [
    "a = 4e-3\n",
    "l = 643.8e-9\n",
    "n = 1.4567\n",
    "DTau = 1/3\n",
    "B = b1/1000\n",
    "uB = ub1/1000\n",
    "edm1 = 2* con.pi *con.c * DTau / (B*a*n)\n",
    "uedm1 = edm1*uB/B\n",
    "print(f\"\\SI{{{round(edm1/1e12,5)} \\pm {round(uedm1/1e12,5)}}}\" +  r\"{\\tera\\coulomb \\per \\kilo\\gram}\")\n",
    "\n",
    "\n",
    "DTau = 1/4\n",
    "B = b2/1000\n",
    "uB = ub2/1000\n",
    "edm2 = 2* con.pi *con.c * DTau / (B*a*n)\n",
    "uedm2 = edm2*uB/B\n",
    "\n",
    "print(f\"\\SI{{{round(edm2/1e12,5)} \\pm {round(uedm2/1e12,5)}}}\" +  r\"{\\tera\\coulomb \\per \\kilo\\gram}\")\n"
   ]
  },
  {
   "cell_type": "code",
   "execution_count": 45,
   "id": "0b5e14fc-4ff3-4f46-963d-a97d702dcc17",
   "metadata": {},
   "outputs": [],
   "source": [
    "edml = 1.75882001076e11\n",
    "uedml = 0.00000000053e11\n",
    "\n",
    "edmAlt = 1.8e11\n",
    "uedmAlt = 0.4e11\n",
    "\n",
    "edm = [edm1,edm2,edmAlt,edml]\n",
    "uedm  = [uedm1,uedm2,uedmAlt,uedml]"
   ]
  },
  {
   "cell_type": "code",
   "execution_count": 111,
   "id": "09428de4-9ce2-4ed3-a647-be87f0263f08",
   "metadata": {},
   "outputs": [
    {
     "name": "stdout",
     "output_type": "stream",
     "text": [
      "\\SI{0.19416 \\pm 0.00237}{\\tera\\coulomb \\per \\kilo\\gram}\n",
      "\\SI{0.19224 \\pm 0.01491}{\\tera\\coulomb \\per \\kilo\\gram}\n",
      "\\SI{0.18 \\pm 0.04}{\\tera\\coulomb \\per \\kilo\\gram}\n",
      "\\SI{0.17588 \\pm 0.0}{\\tera\\coulomb \\per \\kilo\\gram}\n",
      "\\SI{0.175882001076 \\pm 5.3e-11}{\\tera\\coulomb \\per \\kilo\\gram}\n"
     ]
    }
   ],
   "source": [
    "for v, uv in zip(edm,uedm):\n",
    "    print(f\"\\SI{{{round(v/1e12,5)} \\pm {round(uv/1e12,5)}}}\" +  r\"{\\tera\\coulomb \\per \\kilo\\gram}\")\n",
    "print(f\"\\SI{{{edml/1e12} \\pm {uedml/1e12}}}\" +  r\"{\\tera\\coulomb \\per \\kilo\\gram}\")\n"
   ]
  },
  {
   "cell_type": "code",
   "execution_count": 108,
   "id": "4febaa6f-7ed1-4f78-9d75-fcc6484ed4a5",
   "metadata": {},
   "outputs": [
    {
     "name": "stdout",
     "output_type": "stream",
     "text": [
      "t-werte\n",
      "0.0\t0.127\t0.353\t7.703\t\n",
      "0.127\t0.0\t0.287\t1.098\t\n",
      "0.353\t0.287\t0.0\t0.103\t\n",
      "7.703\t1.098\t0.103\t0.0\t\n",
      "Außen-Wahrscheinlichkeit\n",
      "\\SI{0.0}{\\percent}\t\\SI{10.105}{\\percent}\t\\SI{27.617}{\\percent}\t\\SI{100.0}{\\percent}\t\n",
      "\\SI{10.105}{\\percent}\t\\SI{0.0}{\\percent}\t\\SI{22.572}{\\percent}\t\\SI{72.76}{\\percent}\t\n",
      "\\SI{27.617}{\\percent}\t\\SI{22.572}{\\percent}\t\\SI{0.0}{\\percent}\t\\SI{8.2}{\\percent}\t\n",
      "\\SI{100.0}{\\percent}\t\\SI{72.76}{\\percent}\t\\SI{8.2}{\\percent}\t\\SI{0.0}{\\percent}\t\n",
      "Innen-Wahrscheinlichkeit\n",
      "\\SI{100.0}{\\percent}\t\\SI{89.895}{\\percent}\t\\SI{72.383}{\\percent}\t\\SI{0.0}{\\percent}\t\n",
      "\\SI{89.895}{\\percent}\t\\SI{100.0}{\\percent}\t\\SI{77.428}{\\percent}\t\\SI{27.24}{\\percent}\t\n",
      "\\SI{72.383}{\\percent}\t\\SI{77.428}{\\percent}\t\\SI{100.0}{\\percent}\t\\SI{91.8}{\\percent}\t\n",
      "\\SI{0.0}{\\percent}\t\\SI{27.24}{\\percent}\t\\SI{91.8}{\\percent}\t\\SI{100.0}{\\percent}\t\n"
     ]
    }
   ],
   "source": [
    "print(\"t-werte\")\n",
    "ttest(edm,uedm)\n",
    "      \n",
    "print(\"Außen-Wahrscheinlichkeit\")\n",
    "ttestPaussen(edm,uedm)\n",
    "\n",
    "print(\"Innen-Wahrscheinlichkeit\")\n",
    "ttestPinnen(edm,uedm)"
   ]
  }
 ],
 "metadata": {
  "kernelspec": {
   "display_name": "Python 3 (ipykernel)",
   "language": "python",
   "name": "python3"
  },
  "language_info": {
   "codemirror_mode": {
    "name": "ipython",
    "version": 3
   },
   "file_extension": ".py",
   "mimetype": "text/x-python",
   "name": "python",
   "nbconvert_exporter": "python",
   "pygments_lexer": "ipython3",
   "version": "3.9.7"
  }
 },
 "nbformat": 4,
 "nbformat_minor": 5
}
