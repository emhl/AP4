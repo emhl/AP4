{
 "cells": [
  {
   "cell_type": "code",
   "execution_count": 2,
   "id": "6cb80d2f-5d8d-4b3a-a3d4-ea5a1a08684d",
   "metadata": {},
   "outputs": [],
   "source": [
    "import numpy as np\n",
    "import matplotlib.pyplot as plt\n",
    "import pandas as pd\n",
    "from shapely.geometry import LineString as ls\n",
    "from scipy.optimize import curve_fit\n",
    "from scipy.signal import find_peaks\n",
    "import scipy.constants as con\n",
    "from scipy import stats"
   ]
  },
  {
   "cell_type": "code",
   "execution_count": 3,
   "id": "4492c09b-87ff-4bc1-bb32-18447e8f477f",
   "metadata": {},
   "outputs": [
    {
     "data": {
      "text/html": [
       "<div>\n",
       "<style scoped>\n",
       "    .dataframe tbody tr th:only-of-type {\n",
       "        vertical-align: middle;\n",
       "    }\n",
       "\n",
       "    .dataframe tbody tr th {\n",
       "        vertical-align: top;\n",
       "    }\n",
       "\n",
       "    .dataframe thead th {\n",
       "        text-align: right;\n",
       "    }\n",
       "</style>\n",
       "<table border=\"1\" class=\"dataframe\">\n",
       "  <thead>\n",
       "    <tr style=\"text-align: right;\">\n",
       "      <th></th>\n",
       "      <th>n He</th>\n",
       "      <th>u(n) He</th>\n",
       "      <th>λ (lit) in n He</th>\n",
       "      <th>n H</th>\n",
       "      <th>u(n) H</th>\n",
       "      <th>λ (lit) in nm H</th>\n",
       "    </tr>\n",
       "  </thead>\n",
       "  <tbody>\n",
       "    <tr>\n",
       "      <th>0</th>\n",
       "      <td>1.754072</td>\n",
       "      <td>0.080406</td>\n",
       "      <td>667.82</td>\n",
       "      <td>1.762804</td>\n",
       "      <td>0.080604</td>\n",
       "      <td>656.28</td>\n",
       "    </tr>\n",
       "    <tr>\n",
       "      <th>1</th>\n",
       "      <td>1.761738</td>\n",
       "      <td>0.080580</td>\n",
       "      <td>587.56</td>\n",
       "      <td>1.808508</td>\n",
       "      <td>0.081632</td>\n",
       "      <td>486.31</td>\n",
       "    </tr>\n",
       "    <tr>\n",
       "      <th>2</th>\n",
       "      <td>1.779312</td>\n",
       "      <td>0.080977</td>\n",
       "      <td>501.57</td>\n",
       "      <td>1.832677</td>\n",
       "      <td>0.082171</td>\n",
       "      <td>434.05</td>\n",
       "    </tr>\n",
       "    <tr>\n",
       "      <th>3</th>\n",
       "      <td>1.781823</td>\n",
       "      <td>0.081034</td>\n",
       "      <td>492.19</td>\n",
       "      <td>NaN</td>\n",
       "      <td>NaN</td>\n",
       "      <td>NaN</td>\n",
       "    </tr>\n",
       "    <tr>\n",
       "      <th>4</th>\n",
       "      <td>1.791032</td>\n",
       "      <td>0.081241</td>\n",
       "      <td>471.31</td>\n",
       "      <td>NaN</td>\n",
       "      <td>NaN</td>\n",
       "      <td>NaN</td>\n",
       "    </tr>\n",
       "    <tr>\n",
       "      <th>5</th>\n",
       "      <td>1.800519</td>\n",
       "      <td>0.081454</td>\n",
       "      <td>447.15</td>\n",
       "      <td>NaN</td>\n",
       "      <td>NaN</td>\n",
       "      <td>NaN</td>\n",
       "    </tr>\n",
       "  </tbody>\n",
       "</table>\n",
       "</div>"
      ],
      "text/plain": [
       "       n He   u(n) He  λ (lit) in n He       n H    u(n) H  λ (lit) in nm H\n",
       "0  1.754072  0.080406           667.82  1.762804  0.080604           656.28\n",
       "1  1.761738  0.080580           587.56  1.808508  0.081632           486.31\n",
       "2  1.779312  0.080977           501.57  1.832677  0.082171           434.05\n",
       "3  1.781823  0.081034           492.19       NaN       NaN              NaN\n",
       "4  1.791032  0.081241           471.31       NaN       NaN              NaN\n",
       "5  1.800519  0.081454           447.15       NaN       NaN              NaN"
      ]
     },
     "execution_count": 3,
     "metadata": {},
     "output_type": "execute_result"
    }
   ],
   "source": [
    "messung = pd.read_csv(\"Data/Balmer Serie.tsv\",sep='\\t',decimal=\",\")\n",
    "messung"
   ]
  },
  {
   "cell_type": "code",
   "execution_count": 4,
   "id": "5b9673a8-0d48-447f-b9f7-d36a0ea883eb",
   "metadata": {},
   "outputs": [
    {
     "data": {
      "text/plain": [
       "Text(0, 0.5, 'Dispersion n')"
      ]
     },
     "execution_count": 4,
     "metadata": {},
     "output_type": "execute_result"
    },
    {
     "data": {
      "image/png": "[encoded data removed]",
      "text/plain": [
       "<Figure size 432x288 with 1 Axes>"
      ]
     },
     "metadata": {
      "needs_background": "light"
     },
     "output_type": "display_data"
    }
   ],
   "source": [
    "x = messung[\"λ (lit) in n He\"]\n",
    "y = messung[\"n He\"]\n",
    "plt.errorbar(x,y, yerr=messung[\"u(n) He\"],fmt='o', capsize=5)\n",
    "\n",
    "\n",
    "plt.xlabel(\"Wavelength $\\lambda$ in nm\")\n",
    "plt.ylabel(\"Dispersion n\")\n"
   ]
  },
  {
   "cell_type": "code",
   "execution_count": 5,
   "id": "91e18087-53a7-471b-be80-1b13cae535a7",
   "metadata": {},
   "outputs": [
    {
     "name": "stdout",
     "output_type": "stream",
     "text": [
      "[ 1.71415408e+00 -2.37273581e+07  2.37442220e+07] [4.08507003e-03 2.51684934e+10 2.51684930e+10]\n"
     ]
    },
    {
     "data": {
      "image/png": "[encoded data removed]",
      "text/plain": [
       "<Figure size 432x288 with 1 Axes>"
      ]
     },
     "metadata": {
      "needs_background": "light"
     },
     "output_type": "display_data"
    }
   ],
   "source": [
    "\n",
    "def fit(l,A,B,C):\n",
    "    return A + B/np.power(l,2) + C/np.power(l,2)\n",
    "    #return m_0*theta + c\n",
    "\n",
    "c, cov = curve_fit(fit, x,y)\n",
    "perr = np.sqrt(np.abs(np.diag(cov)))\n",
    "print(c,perr)\n",
    "\n",
    "xf = np.linspace(350,750,500)\n",
    "yf = fit(xf, c[0],c[1],c[2])\n",
    "plt.plot(xf,yf,color=\"k\", label=\"Cauchy fit\")\n",
    "plt.errorbar(x,y, yerr=messung[\"u(n) He\"],fmt='o', capsize=5, label=\"measured n\")\n",
    "\n",
    "plt.legend()\n",
    "plt.xlabel(\"Wavelength $\\lambda$ in nm\")\n",
    "plt.ylabel(\"Dispersion n\")\n",
    "plt.grid()\n",
    "\n",
    "plt.savefig(\"Bilder/balmer-cauchy-fit.png\", dpi=300)"
   ]
  },
  {
   "cell_type": "code",
   "execution_count": 6,
   "id": "253aaf1b-e5d5-4de3-b326-6d52ce27380c",
   "metadata": {},
   "outputs": [
    {
     "name": "stdout",
     "output_type": "stream",
     "text": [
      "0    1.762804\n",
      "1    1.808508\n",
      "2    1.832677\n",
      "3         NaN\n",
      "4         NaN\n",
      "5         NaN\n",
      "Name: n H, dtype: float64\n"
     ]
    }
   ],
   "source": [
    "xn = xf\n",
    "\n",
    "nH = messung[\"n H\"]\n",
    "print(nH)\n",
    "\n",
    "yn0 = [nH[0]]*500\n",
    "yn1 = [nH[1]]*500\n",
    "yn2 = [nH[2]]*500\n"
   ]
  },
  {
   "cell_type": "code",
   "execution_count": 7,
   "id": "51baf6a9-09eb-41a6-8441-910e3c3cb407",
   "metadata": {},
   "outputs": [
    {
     "data": {
      "image/png": "[encoded data removed]",
      "text/plain": [
       "<Figure size 432x288 with 1 Axes>"
      ]
     },
     "metadata": {
      "needs_background": "light"
     },
     "output_type": "display_data"
    }
   ],
   "source": [
    "plt.plot(xf,yf,color=\"k\", label=\"Cauchy fit\")\n",
    "\n",
    "plt.plot(xn,yn0,color=\"r\", label=r\"n of $H_\\alpha$\")\n",
    "plt.plot(xn,yn1,color=\"b\", label=r\"n of $H_\\beta$\")\n",
    "plt.plot(xn,yn2,color=\"m\", label=r\"n of $H_\\gamma$\")\n",
    "\n",
    "\n",
    "plt.errorbar(x,y, yerr=messung[\"u(n) He\"]/5,fmt='o', capsize=5, label=\"measured n\")\n",
    "\n",
    "plt.legend(loc=\"upper right\")\n",
    "plt.xlabel(\"Wavelength $\\lambda$ in nm\")\n",
    "plt.ylabel(\"Dispersion n\")\n",
    "plt.grid()\n",
    "\n",
    "\n",
    "# Wichtig: unsicherheitsbalken haben nur 1/5 der realen länge\n",
    "plt.savefig(\"Bilder/balmer-comparison-H.png\", dpi=300)"
   ]
  },
  {
   "cell_type": "code",
   "execution_count": 8,
   "id": "5bced0b0-ea16-49d2-b717-2cea71b1d3c0",
   "metadata": {},
   "outputs": [
    {
     "name": "stdout",
     "output_type": "stream",
     "text": [
      "[588.7617555169004, 377.2053530085304, 588.7617555169004]\n"
     ]
    }
   ],
   "source": [
    "line_1 = ls(np.column_stack((xn,yn0)))\n",
    "line_2 = ls(np.column_stack((xf,yf)))\n",
    "intersection = line_1.intersection(line_2)\n",
    "H = [intersection.x]*3\n",
    "\n",
    "line_1 = ls(np.column_stack((xn,yn1)))\n",
    "line_2 = ls(np.column_stack((xf,yf)))\n",
    "intersection = line_1.intersection(line_2)\n",
    "H[1] = intersection.x\n",
    "\n",
    "line_1 = ls(np.column_stack((xn,yn2)))\n",
    "line_2 = ls(np.column_stack((xf,yf)))\n",
    "intersection = line_1.intersection(line_2)\n",
    "H[1] = intersection.x\n",
    "print(H)\n"
   ]
  },
  {
   "cell_type": "code",
   "execution_count": 9,
   "id": "5c617994-8197-4306-83f9-e623cff60eac",
   "metadata": {},
   "outputs": [
    {
     "name": "stdout",
     "output_type": "stream",
     "text": [
      "\\SI{12229.0 \\pm 831.0}{\\per\\kilo\\m}\n",
      "\\SI{14139.0 \\pm 1499.0}{\\per\\kilo\\m}\n",
      "\\SI{8088.0 \\pm 549.0}{\\per\\kilo\\m}\n",
      "\\SI{589.0 \\pm 40}{\\nano\\m}\n",
      "\\SI{377.0 \\pm 40}{\\nano\\m}\n",
      "\\SI{589.0 \\pm 40}{\\nano\\m}\n",
      "\\SI{10532.0 \\pm 1800.0}{\\per\\kilo\\m}\n"
     ]
    },
    {
     "data": {
      "image/png": "[encoded data removed]",
      "text/plain": [
       "<Figure size 432x288 with 1 Axes>"
      ]
     },
     "metadata": {
      "needs_background": "light"
     },
     "output_type": "display_data"
    }
   ],
   "source": [
    "uH = 40\n",
    "R = [0]*3\n",
    "R[0] = 1/(H[0]*(1/4. - 1/9))*1e9\n",
    "R[1] = 1/(H[1]*(1/4. - 1/16))*1e9\n",
    "R[2] = 1/(H[2]*(1/4. - 1/25))*1e9\n",
    "uR = uH * np.divide(R,H)\n",
    "\n",
    "LR = 10973731\n",
    "\n",
    "# print(R,uR)\n",
    "for i in range(len(R)):\n",
    "    print(\"\\SI{\" + str(np.round(R[i]/1e3)) + \" \\pm \" + str(np.round(uR[i]/1e3)) + \"}{\\per\\kilo\\m}\")\n",
    "\n",
    "plt.errorbar(R,[1,2,3], xerr=uR,fmt='o', capsize=5,color=\"k\")\n",
    "plt.errorbar(np.average(R,weights=np.divide(1,uR)),1.7,xerr=np.sqrt(np.var(R)/3),fmt='o', capsize=5,color=\"r\")\n",
    "plt.errorbar(np.average(R,weights=np.divide(1,uR)),1.5,xerr=np.sqrt(np.sum(np.power(uR,2))),fmt='o', capsize=5,color=\"g\")\n",
    "\n",
    "plt.scatter(LR,2)\n",
    "AR = np.average(R,weights=np.divide(1,uR))\n",
    "uAR = np.sqrt(np.sum(np.power(uR,2)))\n",
    "\n",
    "for i in range(len(H)):\n",
    "    print(\"\\SI{\" + str(np.round(H[i])) + \" \\pm \" + str(uH) + r\"}{\\nano\\m}\")\n",
    "\n",
    "print(\"\\SI{\" + str(np.round(AR/1e3)) + \" \\pm \" + str(np.round(uAR/1e3)) + \"}{\\per\\kilo\\m}\")\n"
   ]
  },
  {
   "cell_type": "code",
   "execution_count": 10,
   "id": "ed06b1fd-ce15-40f0-95ad-52e524682734",
   "metadata": {},
   "outputs": [
    {
     "name": "stdout",
     "output_type": "stream",
     "text": [
      "[ 1.5109239   2.11114161 -5.25163353]\n"
     ]
    }
   ],
   "source": [
    "d =np.add(R,-LR)\n",
    "# print(d)\n",
    "t = np.divide(d,uR)\n",
    "print(t)"
   ]
  },
  {
   "cell_type": "code",
   "execution_count": 11,
   "id": "9cc73f7e-fbfb-4ada-ac41-fa60f23cf858",
   "metadata": {},
   "outputs": [
    {
     "name": "stdout",
     "output_type": "stream",
     "text": [
      "-441565.85450558737\n",
      "-0.24530398467333211\n"
     ]
    }
   ],
   "source": [
    "d =np.add(AR,-LR)\n",
    "print(d)\n",
    "t = np.divide(d,uAR)\n",
    "print(t)"
   ]
  }
 ],
 "metadata": {
  "kernelspec": {
   "display_name": "Python 3 (ipykernel)",
   "language": "python",
   "name": "python3"
  },
  "language_info": {
   "codemirror_mode": {
    "name": "ipython",
    "version": 3
   },
   "file_extension": ".py",
   "mimetype": "text/x-python",
   "name": "python",
   "nbconvert_exporter": "python",
   "pygments_lexer": "ipython3",
   "version": "3.9.7"
  }
 },
 "nbformat": 4,
 "nbformat_minor": 5
}
